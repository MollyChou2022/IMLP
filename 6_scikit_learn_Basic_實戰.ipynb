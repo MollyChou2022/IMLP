{
 "cells": [
  {
   "cell_type": "markdown",
   "metadata": {},
   "source": [
    "# 使用Scikit-Learn 完成預測\n",
    "### Scikit-Learn在三個面向提供支援。\n",
    "1. 獲取資料:***klearn.datasets***\n",
    "2. 掌握資料:***sklearn.preprocessing*** \n",
    "3. 機器學習:***sklearn Estimator API*** \n",
    "\n",
    "獲取資料的方式有很多種（包含檔案、資料庫、網路爬蟲、Kaggle Datasets等），<br>\n",
    "其中最簡單的方式是從Sklearn import 內建的資料庫。由於其特性隨手可得且不用下載，所以我們通常叫他**玩具資料**：\n",
    "\n",
    "# 基本架構\n",
    "\n",
    "* 讀取資料&pre-processing\n",
    "* 切分訓練集與測試集 \n",
    "* 模型配適\n",
    "* 預測 \n",
    "* 評估(計算成績可能是誤差值或正確率或..)\n"
   ]
  },
  {
   "cell_type": "code",
   "execution_count": 1,
   "metadata": {
    "scrolled": true
   },
   "outputs": [],
   "source": [
    "%matplotlib inline\n",
    "\n",
    "from sklearn import datasets\n",
    "import pandas as pd\n",
    "import numpy as np\n",
    "import matplotlib.pyplot as plt\n",
    "import seaborn as sns\n"
   ]
  },
  {
   "cell_type": "markdown",
   "metadata": {},
   "source": [
    "## 讀取Iris資料集與資料前處理\n",
    "\n",
    "Iris Flowers 資料集\n",
    "\n",
    "我們在這個項目中使用 Iris Data Set，這個資料集中的每個樣本有4個特徵，1個類別。該資料集1中的樣本類別數為3類，每類樣本數目為50個，總共150個樣本。\n",
    "\n",
    "屬性資訊：\n",
    "\n",
    "    花萼長度 sepal length(cm)\n",
    "    花萼寬度 sepal width(cm)\n",
    "    花瓣長度 petal length(cm)\n",
    "    花瓣寬度 petal width(cm)\n",
    "    類別：\n",
    "        Iris Setosa\n",
    "        Iris Versicolour\n",
    "        Iris Virginica\n",
    "\n",
    "樣本特徵資料是數值型的，而且單位都相同（釐米）。\n",
    "\n",
    "![Iris Flowers](images/iris_data.PNG)\n"
   ]
  },
  {
   "cell_type": "code",
   "execution_count": 2,
   "metadata": {},
   "outputs": [
    {
     "name": "stdout",
     "output_type": "stream",
     "text": [
      ".. _iris_dataset:\n",
      "\n",
      "Iris plants dataset\n",
      "--------------------\n",
      "\n",
      "**Data Set Characteristics:**\n",
      "\n",
      "    :Number of Instances: 150 (50 in each of three classes)\n",
      "    :Number of Attributes: 4 numeric, predictive attributes and the class\n",
      "    :Attribute Information:\n",
      "        - sepal length in cm\n",
      "        - sepal width in cm\n",
      "        - petal length in cm\n",
      "        - petal width in cm\n",
      "        - class:\n",
      "                - Iris-Setosa\n",
      "                - Iris-Versicolour\n",
      "                - Iris-Virginica\n",
      "                \n",
      "    :Summary Statistics:\n",
      "\n",
      "    ============== ==== ==== ======= ===== ====================\n",
      "                    Min  Max   Mean    SD   Class Correlation\n",
      "    ============== ==== ==== ======= ===== ====================\n",
      "    sepal length:   4.3  7.9   5.84   0.83    0.7826\n",
      "    sepal width:    2.0  4.4   3.05   0.43   -0.4194\n",
      "    petal length:   1.0  6.9   3.76   1.76    0.9490  (high!)\n",
      "    petal width:    0.1  2.5   1.20   0.76    0.9565  (high!)\n",
      "    ============== ==== ==== ======= ===== ====================\n",
      "\n",
      "    :Missing Attribute Values: None\n",
      "    :Class Distribution: 33.3% for each of 3 classes.\n",
      "    :Creator: R.A. Fisher\n",
      "    :Donor: Michael Marshall (MARSHALL%PLU@io.arc.nasa.gov)\n",
      "    :Date: July, 1988\n",
      "\n",
      "The famous Iris database, first used by Sir R.A. Fisher. The dataset is taken\n",
      "from Fisher's paper. Note that it's the same as in R, but not as in the UCI\n",
      "Machine Learning Repository, which has two wrong data points.\n",
      "\n",
      "This is perhaps the best known database to be found in the\n",
      "pattern recognition literature.  Fisher's paper is a classic in the field and\n",
      "is referenced frequently to this day.  (See Duda & Hart, for example.)  The\n",
      "data set contains 3 classes of 50 instances each, where each class refers to a\n",
      "type of iris plant.  One class is linearly separable from the other 2; the\n",
      "latter are NOT linearly separable from each other.\n",
      "\n",
      ".. topic:: References\n",
      "\n",
      "   - Fisher, R.A. \"The use of multiple measurements in taxonomic problems\"\n",
      "     Annual Eugenics, 7, Part II, 179-188 (1936); also in \"Contributions to\n",
      "     Mathematical Statistics\" (John Wiley, NY, 1950).\n",
      "   - Duda, R.O., & Hart, P.E. (1973) Pattern Classification and Scene Analysis.\n",
      "     (Q327.D83) John Wiley & Sons.  ISBN 0-471-22361-1.  See page 218.\n",
      "   - Dasarathy, B.V. (1980) \"Nosing Around the Neighborhood: A New System\n",
      "     Structure and Classification Rule for Recognition in Partially Exposed\n",
      "     Environments\".  IEEE Transactions on Pattern Analysis and Machine\n",
      "     Intelligence, Vol. PAMI-2, No. 1, 67-71.\n",
      "   - Gates, G.W. (1972) \"The Reduced Nearest Neighbor Rule\".  IEEE Transactions\n",
      "     on Information Theory, May 1972, 431-433.\n",
      "   - See also: 1988 MLC Proceedings, 54-64.  Cheeseman et al\"s AUTOCLASS II\n",
      "     conceptual clustering system finds 3 classes in the data.\n",
      "   - Many, many more ...\n"
     ]
    }
   ],
   "source": [
    "iris = datasets.load_iris()\n",
    "print(iris.DESCR)"
   ]
  },
  {
   "cell_type": "markdown",
   "metadata": {},
   "source": [
    "* 印出iris的key值與檔案位置\n",
    "* 查看前10筆資料\n",
    "* 查看資料型別\n",
    "* 印出標註的樣本類別資料"
   ]
  },
  {
   "cell_type": "code",
   "execution_count": 10,
   "metadata": {},
   "outputs": [
    {
     "name": "stdout",
     "output_type": "stream",
     "text": [
      "dict_keys(['data', 'target', 'frame', 'target_names', 'DESCR', 'feature_names', 'filename'])\n",
      "C:\\Users\\User\\anaconda3\\lib\\site-packages\\sklearn\\datasets\\data\\iris.csv\n",
      "[[5.1 3.5 1.4 0.2]\n",
      " [4.9 3.  1.4 0.2]\n",
      " [4.7 3.2 1.3 0.2]\n",
      " [4.6 3.1 1.5 0.2]\n",
      " [5.  3.6 1.4 0.2]\n",
      " [5.4 3.9 1.7 0.4]\n",
      " [4.6 3.4 1.4 0.3]\n",
      " [5.  3.4 1.5 0.2]\n",
      " [4.4 2.9 1.4 0.2]\n",
      " [4.9 3.1 1.5 0.1]]\n",
      "<class 'numpy.ndarray'>\n",
      "['setosa' 'versicolor' 'virginica']\n",
      "[0 0 0 0 0 0 0 0 0 0 0 0 0 0 0 0 0 0 0 0 0 0 0 0 0 0 0 0 0 0 0 0 0 0 0 0 0\n",
      " 0 0 0 0 0 0 0 0 0 0 0 0 0 1 1 1 1 1 1 1 1 1 1 1 1 1 1 1 1 1 1 1 1 1 1 1 1\n",
      " 1 1 1 1 1 1 1 1 1 1 1 1 1 1 1 1 1 1 1 1 1 1 1 1 1 1 2 2 2 2 2 2 2 2 2 2 2\n",
      " 2 2 2 2 2 2 2 2 2 2 2 2 2 2 2 2 2 2 2 2 2 2 2 2 2 2 2 2 2 2 2 2 2 2 2 2 2\n",
      " 2 2]\n"
     ]
    }
   ],
   "source": [
    "print(iris.keys())\n",
    "\n",
    "print(iris[\"filename\"])\n",
    "\n",
    "print(iris.data[0:10])\n",
    "\n",
    "print(type(iris.data))\n",
    "\n",
    "print(iris.target_names)\n",
    "\n",
    "print(iris.target)"
   ]
  },
  {
   "cell_type": "code",
   "execution_count": 14,
   "metadata": {},
   "outputs": [
    {
     "name": "stdout",
     "output_type": "stream",
     "text": [
      "(150, 2)\n",
      "(150,)\n"
     ]
    }
   ],
   "source": [
    "# we only take the first two features. \n",
    "X = iris.data[:, :2]\n",
    "print(X.shape)\n",
    "Y = iris.target\n",
    "print(Y.shape)"
   ]
  },
  {
   "cell_type": "code",
   "execution_count": 15,
   "metadata": {},
   "outputs": [
    {
     "data": {
      "text/html": [
       "<div>\n",
       "<style scoped>\n",
       "    .dataframe tbody tr th:only-of-type {\n",
       "        vertical-align: middle;\n",
       "    }\n",
       "\n",
       "    .dataframe tbody tr th {\n",
       "        vertical-align: top;\n",
       "    }\n",
       "\n",
       "    .dataframe thead th {\n",
       "        text-align: right;\n",
       "    }\n",
       "</style>\n",
       "<table border=\"1\" class=\"dataframe\">\n",
       "  <thead>\n",
       "    <tr style=\"text-align: right;\">\n",
       "      <th></th>\n",
       "      <th>sepal length (cm)</th>\n",
       "      <th>sepal width (cm)</th>\n",
       "      <th>petal length (cm)</th>\n",
       "      <th>petal width (cm)</th>\n",
       "    </tr>\n",
       "  </thead>\n",
       "  <tbody>\n",
       "    <tr>\n",
       "      <th>0</th>\n",
       "      <td>5.1</td>\n",
       "      <td>3.5</td>\n",
       "      <td>1.4</td>\n",
       "      <td>0.2</td>\n",
       "    </tr>\n",
       "    <tr>\n",
       "      <th>1</th>\n",
       "      <td>4.9</td>\n",
       "      <td>3.0</td>\n",
       "      <td>1.4</td>\n",
       "      <td>0.2</td>\n",
       "    </tr>\n",
       "    <tr>\n",
       "      <th>2</th>\n",
       "      <td>4.7</td>\n",
       "      <td>3.2</td>\n",
       "      <td>1.3</td>\n",
       "      <td>0.2</td>\n",
       "    </tr>\n",
       "    <tr>\n",
       "      <th>3</th>\n",
       "      <td>4.6</td>\n",
       "      <td>3.1</td>\n",
       "      <td>1.5</td>\n",
       "      <td>0.2</td>\n",
       "    </tr>\n",
       "    <tr>\n",
       "      <th>4</th>\n",
       "      <td>5.0</td>\n",
       "      <td>3.6</td>\n",
       "      <td>1.4</td>\n",
       "      <td>0.2</td>\n",
       "    </tr>\n",
       "    <tr>\n",
       "      <th>5</th>\n",
       "      <td>5.4</td>\n",
       "      <td>3.9</td>\n",
       "      <td>1.7</td>\n",
       "      <td>0.4</td>\n",
       "    </tr>\n",
       "    <tr>\n",
       "      <th>6</th>\n",
       "      <td>4.6</td>\n",
       "      <td>3.4</td>\n",
       "      <td>1.4</td>\n",
       "      <td>0.3</td>\n",
       "    </tr>\n",
       "    <tr>\n",
       "      <th>7</th>\n",
       "      <td>5.0</td>\n",
       "      <td>3.4</td>\n",
       "      <td>1.5</td>\n",
       "      <td>0.2</td>\n",
       "    </tr>\n",
       "    <tr>\n",
       "      <th>8</th>\n",
       "      <td>4.4</td>\n",
       "      <td>2.9</td>\n",
       "      <td>1.4</td>\n",
       "      <td>0.2</td>\n",
       "    </tr>\n",
       "    <tr>\n",
       "      <th>9</th>\n",
       "      <td>4.9</td>\n",
       "      <td>3.1</td>\n",
       "      <td>1.5</td>\n",
       "      <td>0.1</td>\n",
       "    </tr>\n",
       "  </tbody>\n",
       "</table>\n",
       "</div>"
      ],
      "text/plain": [
       "   sepal length (cm)  sepal width (cm)  petal length (cm)  petal width (cm)\n",
       "0                5.1               3.5                1.4               0.2\n",
       "1                4.9               3.0                1.4               0.2\n",
       "2                4.7               3.2                1.3               0.2\n",
       "3                4.6               3.1                1.5               0.2\n",
       "4                5.0               3.6                1.4               0.2\n",
       "5                5.4               3.9                1.7               0.4\n",
       "6                4.6               3.4                1.4               0.3\n",
       "7                5.0               3.4                1.5               0.2\n",
       "8                4.4               2.9                1.4               0.2\n",
       "9                4.9               3.1                1.5               0.1"
      ]
     },
     "execution_count": 15,
     "metadata": {},
     "output_type": "execute_result"
    }
   ],
   "source": [
    "#以下是組成 pandas DataFrame (也可以不用這種做)\n",
    "x = pd.DataFrame(iris.data, columns=iris['feature_names'])\n",
    "x.head(10)"
   ]
  },
  {
   "cell_type": "code",
   "execution_count": 18,
   "metadata": {},
   "outputs": [
    {
     "name": "stdout",
     "output_type": "stream",
     "text": [
      "target_name:['setosa' 'versicolor' 'virginica']\n"
     ]
    }
   ],
   "source": [
    "print(\"target_name:\"+str(iris[\"target_names\"]))"
   ]
  },
  {
   "cell_type": "code",
   "execution_count": 19,
   "metadata": {},
   "outputs": [
    {
     "data": {
      "text/html": [
       "<div>\n",
       "<style scoped>\n",
       "    .dataframe tbody tr th:only-of-type {\n",
       "        vertical-align: middle;\n",
       "    }\n",
       "\n",
       "    .dataframe tbody tr th {\n",
       "        vertical-align: top;\n",
       "    }\n",
       "\n",
       "    .dataframe thead th {\n",
       "        text-align: right;\n",
       "    }\n",
       "</style>\n",
       "<table border=\"1\" class=\"dataframe\">\n",
       "  <thead>\n",
       "    <tr style=\"text-align: right;\">\n",
       "      <th></th>\n",
       "      <th>target</th>\n",
       "    </tr>\n",
       "  </thead>\n",
       "  <tbody>\n",
       "    <tr>\n",
       "      <th>0</th>\n",
       "      <td>0</td>\n",
       "    </tr>\n",
       "    <tr>\n",
       "      <th>1</th>\n",
       "      <td>0</td>\n",
       "    </tr>\n",
       "    <tr>\n",
       "      <th>2</th>\n",
       "      <td>0</td>\n",
       "    </tr>\n",
       "    <tr>\n",
       "      <th>3</th>\n",
       "      <td>0</td>\n",
       "    </tr>\n",
       "    <tr>\n",
       "      <th>4</th>\n",
       "      <td>0</td>\n",
       "    </tr>\n",
       "  </tbody>\n",
       "</table>\n",
       "</div>"
      ],
      "text/plain": [
       "   target\n",
       "0       0\n",
       "1       0\n",
       "2       0\n",
       "3       0\n",
       "4       0"
      ]
     },
     "execution_count": 19,
     "metadata": {},
     "output_type": "execute_result"
    }
   ],
   "source": [
    "#建立Target欄位與資料\n",
    "y = pd.DataFrame(iris[\"target\"], columns=[\"target\"])\n",
    "y.head(5)"
   ]
  },
  {
   "cell_type": "code",
   "execution_count": 22,
   "metadata": {},
   "outputs": [
    {
     "data": {
      "text/html": [
       "<div>\n",
       "<style scoped>\n",
       "    .dataframe tbody tr th:only-of-type {\n",
       "        vertical-align: middle;\n",
       "    }\n",
       "\n",
       "    .dataframe tbody tr th {\n",
       "        vertical-align: top;\n",
       "    }\n",
       "\n",
       "    .dataframe thead th {\n",
       "        text-align: right;\n",
       "    }\n",
       "</style>\n",
       "<table border=\"1\" class=\"dataframe\">\n",
       "  <thead>\n",
       "    <tr style=\"text-align: right;\">\n",
       "      <th></th>\n",
       "      <th>sepal length (cm)</th>\n",
       "      <th>petal length (cm)</th>\n",
       "      <th>target</th>\n",
       "    </tr>\n",
       "  </thead>\n",
       "  <tbody>\n",
       "    <tr>\n",
       "      <th>0</th>\n",
       "      <td>5.1</td>\n",
       "      <td>1.4</td>\n",
       "      <td>0</td>\n",
       "    </tr>\n",
       "    <tr>\n",
       "      <th>1</th>\n",
       "      <td>4.9</td>\n",
       "      <td>1.4</td>\n",
       "      <td>0</td>\n",
       "    </tr>\n",
       "    <tr>\n",
       "      <th>2</th>\n",
       "      <td>4.7</td>\n",
       "      <td>1.3</td>\n",
       "      <td>0</td>\n",
       "    </tr>\n",
       "    <tr>\n",
       "      <th>3</th>\n",
       "      <td>4.6</td>\n",
       "      <td>1.5</td>\n",
       "      <td>0</td>\n",
       "    </tr>\n",
       "    <tr>\n",
       "      <th>4</th>\n",
       "      <td>5.0</td>\n",
       "      <td>1.4</td>\n",
       "      <td>0</td>\n",
       "    </tr>\n",
       "    <tr>\n",
       "      <th>5</th>\n",
       "      <td>5.4</td>\n",
       "      <td>1.7</td>\n",
       "      <td>0</td>\n",
       "    </tr>\n",
       "    <tr>\n",
       "      <th>6</th>\n",
       "      <td>4.6</td>\n",
       "      <td>1.4</td>\n",
       "      <td>0</td>\n",
       "    </tr>\n",
       "    <tr>\n",
       "      <th>7</th>\n",
       "      <td>5.0</td>\n",
       "      <td>1.5</td>\n",
       "      <td>0</td>\n",
       "    </tr>\n",
       "    <tr>\n",
       "      <th>8</th>\n",
       "      <td>4.4</td>\n",
       "      <td>1.4</td>\n",
       "      <td>0</td>\n",
       "    </tr>\n",
       "    <tr>\n",
       "      <th>9</th>\n",
       "      <td>4.9</td>\n",
       "      <td>1.5</td>\n",
       "      <td>0</td>\n",
       "    </tr>\n",
       "  </tbody>\n",
       "</table>\n",
       "</div>"
      ],
      "text/plain": [
       "   sepal length (cm)  petal length (cm)  target\n",
       "0                5.1                1.4       0\n",
       "1                4.9                1.4       0\n",
       "2                4.7                1.3       0\n",
       "3                4.6                1.5       0\n",
       "4                5.0                1.4       0\n",
       "5                5.4                1.7       0\n",
       "6                4.6                1.4       0\n",
       "7                5.0                1.5       0\n",
       "8                4.4                1.4       0\n",
       "9                4.9                1.5       0"
      ]
     },
     "execution_count": 22,
     "metadata": {},
     "output_type": "execute_result"
    }
   ],
   "source": [
    "#合併資料特徵欄位與目標欄位\n",
    "iris_data = pd.concat([x,y], axis=1)\n",
    "iris_data = iris_data[[\"sepal length (cm)\",\"petal length (cm)\",\"target\"]]\n",
    "iris_data.head(10)"
   ]
  },
  {
   "cell_type": "code",
   "execution_count": 28,
   "metadata": {},
   "outputs": [
    {
     "data": {
      "text/html": [
       "<div>\n",
       "<style scoped>\n",
       "    .dataframe tbody tr th:only-of-type {\n",
       "        vertical-align: middle;\n",
       "    }\n",
       "\n",
       "    .dataframe tbody tr th {\n",
       "        vertical-align: top;\n",
       "    }\n",
       "\n",
       "    .dataframe thead th {\n",
       "        text-align: right;\n",
       "    }\n",
       "</style>\n",
       "<table border=\"1\" class=\"dataframe\">\n",
       "  <thead>\n",
       "    <tr style=\"text-align: right;\">\n",
       "      <th></th>\n",
       "      <th>sepal length (cm)</th>\n",
       "      <th>petal length (cm)</th>\n",
       "      <th>target</th>\n",
       "    </tr>\n",
       "  </thead>\n",
       "  <tbody>\n",
       "    <tr>\n",
       "      <th>0</th>\n",
       "      <td>5.1</td>\n",
       "      <td>1.4</td>\n",
       "      <td>0</td>\n",
       "    </tr>\n",
       "    <tr>\n",
       "      <th>1</th>\n",
       "      <td>4.9</td>\n",
       "      <td>1.4</td>\n",
       "      <td>0</td>\n",
       "    </tr>\n",
       "    <tr>\n",
       "      <th>2</th>\n",
       "      <td>4.7</td>\n",
       "      <td>1.3</td>\n",
       "      <td>0</td>\n",
       "    </tr>\n",
       "    <tr>\n",
       "      <th>3</th>\n",
       "      <td>4.6</td>\n",
       "      <td>1.5</td>\n",
       "      <td>0</td>\n",
       "    </tr>\n",
       "    <tr>\n",
       "      <th>4</th>\n",
       "      <td>5.0</td>\n",
       "      <td>1.4</td>\n",
       "      <td>0</td>\n",
       "    </tr>\n",
       "    <tr>\n",
       "      <th>...</th>\n",
       "      <td>...</td>\n",
       "      <td>...</td>\n",
       "      <td>...</td>\n",
       "    </tr>\n",
       "    <tr>\n",
       "      <th>95</th>\n",
       "      <td>5.7</td>\n",
       "      <td>4.2</td>\n",
       "      <td>1</td>\n",
       "    </tr>\n",
       "    <tr>\n",
       "      <th>96</th>\n",
       "      <td>5.7</td>\n",
       "      <td>4.2</td>\n",
       "      <td>1</td>\n",
       "    </tr>\n",
       "    <tr>\n",
       "      <th>97</th>\n",
       "      <td>6.2</td>\n",
       "      <td>4.3</td>\n",
       "      <td>1</td>\n",
       "    </tr>\n",
       "    <tr>\n",
       "      <th>98</th>\n",
       "      <td>5.1</td>\n",
       "      <td>3.0</td>\n",
       "      <td>1</td>\n",
       "    </tr>\n",
       "    <tr>\n",
       "      <th>99</th>\n",
       "      <td>5.7</td>\n",
       "      <td>4.1</td>\n",
       "      <td>1</td>\n",
       "    </tr>\n",
       "  </tbody>\n",
       "</table>\n",
       "<p>100 rows × 3 columns</p>\n",
       "</div>"
      ],
      "text/plain": [
       "    sepal length (cm)  petal length (cm)  target\n",
       "0                 5.1                1.4       0\n",
       "1                 4.9                1.4       0\n",
       "2                 4.7                1.3       0\n",
       "3                 4.6                1.5       0\n",
       "4                 5.0                1.4       0\n",
       "..                ...                ...     ...\n",
       "95                5.7                4.2       1\n",
       "96                5.7                4.2       1\n",
       "97                6.2                4.3       1\n",
       "98                5.1                3.0       1\n",
       "99                5.7                4.1       1\n",
       "\n",
       "[100 rows x 3 columns]"
      ]
     },
     "execution_count": 28,
     "metadata": {},
     "output_type": "execute_result"
    }
   ],
   "source": [
    "#只選擇目標為0與1的資料\n",
    "iris_data = iris_data[iris_data[\"target\"].isin([0,1])]\n",
    "iris_data\n",
    "#print(iris[\"data\"].size/len(iris[\"feature_names\"]))"
   ]
  },
  {
   "cell_type": "markdown",
   "metadata": {},
   "source": [
    "## 切分訓練集與測試集\n",
    "> train_test_split()"
   ]
  },
  {
   "cell_type": "code",
   "execution_count": 52,
   "metadata": {},
   "outputs": [],
   "source": [
    "from sklearn.model_selection import train_test_split\n",
    "\n",
    "X_train, X_test, Y_train, Y_test = train_test_split(iris_data[[\"sepal length (cm)\",\"petal length (cm)\"]],iris_data[[\"target\"]],test_size=0.2)"
   ]
  },
  {
   "cell_type": "code",
   "execution_count": 53,
   "metadata": {},
   "outputs": [
    {
     "data": {
      "text/plain": [
       "(80, 2)"
      ]
     },
     "execution_count": 53,
     "metadata": {},
     "output_type": "execute_result"
    }
   ],
   "source": [
    "X_train.head()\n",
    "X_train.shape"
   ]
  },
  {
   "cell_type": "code",
   "execution_count": 60,
   "metadata": {},
   "outputs": [
    {
     "data": {
      "text/plain": [
       "(20, 2)"
      ]
     },
     "execution_count": 60,
     "metadata": {},
     "output_type": "execute_result"
    }
   ],
   "source": [
    "X_test.head()\n",
    "X_test.shape"
   ]
  },
  {
   "cell_type": "code",
   "execution_count": 55,
   "metadata": {},
   "outputs": [
    {
     "data": {
      "text/plain": [
       "(80, 1)"
      ]
     },
     "execution_count": 55,
     "metadata": {},
     "output_type": "execute_result"
    }
   ],
   "source": [
    "Y_train.head()\n",
    "Y_train.shape"
   ]
  },
  {
   "cell_type": "code",
   "execution_count": 58,
   "metadata": {},
   "outputs": [
    {
     "data": {
      "text/plain": [
       "(20, 1)"
      ]
     },
     "execution_count": 58,
     "metadata": {},
     "output_type": "execute_result"
    }
   ],
   "source": [
    "Y_test.head()\n",
    "Y_test.shape"
   ]
  },
  {
   "cell_type": "markdown",
   "metadata": {},
   "source": [
    "# Appendix \n",
    "\n",
    ">normalization和standardization是差不多的<br>\n",
    "都是把數據進行前處理，從而使數值都落入到統一的數值範圍，從而在建模過程中，各個特徵量沒差別對待。<br> \n",
    "* normalization一般是把數據限定在需要的範圍，比如一般都是【0，1】，從而消除了數據量綱對建模的影響。<br> \n",
    "* standardization 一般是指將數據正態化，使平均值0方差為1.<br> \n",
    "\n",
    "因此normalization和standardization 是針對數據而言的，消除一些數值差異帶來的特種重要性偏見。<br>\n",
    "經過歸一化的數據，能加快訓練速度，促進算法的收斂。\n",
    "\n",
    "### Standardization (z-score)\n",
    "    to compute the mean and standard deviation on a training set so as to be able to later reapply the same transformation on the testing set. "
   ]
  },
  {
   "cell_type": "code",
   "execution_count": 61,
   "metadata": {},
   "outputs": [],
   "source": [
    "def norm_stats(dfs):\n",
    "    minimum = np.min(dfs)\n",
    "    maximum = np.max(dfs)\n",
    "    mu = np.mean(dfs)\n",
    "    sigma = np.std(dfs)\n",
    "    return (minimum, maximum, mu, sigma)\n",
    "\n",
    "\n",
    "def z_score(col, stats):\n",
    "    m, M, mu, s = stats\n",
    "    df = pd.DataFrame()\n",
    "    for c in col.columns:\n",
    "        df[c] = (col[c]-mu[c])/s[c]\n",
    "    return df"
   ]
  },
  {
   "cell_type": "code",
   "execution_count": 63,
   "metadata": {},
   "outputs": [
    {
     "data": {
      "text/plain": [
       "array([[-0.01139515,  0.5615887 ],\n",
       "       [ 0.90021711,  0.69877068],\n",
       "       [-0.46720129, -1.08459498],\n",
       "       [ 0.14054022,  0.76736166],\n",
       "       [ 1.35602324,  0.90454364]])"
      ]
     },
     "execution_count": 63,
     "metadata": {},
     "output_type": "execute_result"
    }
   ],
   "source": [
    "stats = norm_stats(X_train)\n",
    "arr_x_train = np.array(z_score(X_train, stats))\n",
    "arr_y_train = np.array(Y_train)\n",
    "arr_x_train[:5]"
   ]
  },
  {
   "cell_type": "code",
   "execution_count": 69,
   "metadata": {},
   "outputs": [
    {
     "data": {
      "text/plain": [
       "array([[ 1.08883746,  1.43453915],\n",
       "       [-0.61542987, -0.61480249],\n",
       "       [ 0.71011139,  1.43453915],\n",
       "       [-0.8047929 , -0.77244416],\n",
       "       [ 0.33138531, -0.77244416]])"
      ]
     },
     "execution_count": 69,
     "metadata": {},
     "output_type": "execute_result"
    }
   ],
   "source": [
    "stats = norm_stats(X_test)\n",
    "arr_x_test = np.array(z_score(X_test, stats))\n",
    "arr_x_test[:5]"
   ]
  },
  {
   "cell_type": "markdown",
   "metadata": {},
   "source": [
    "## use sklearn"
   ]
  },
  {
   "cell_type": "code",
   "execution_count": 64,
   "metadata": {},
   "outputs": [
    {
     "name": "stdout",
     "output_type": "stream",
     "text": [
      "[5.5075  2.98125]\n",
      "[0.65817456 1.4579175 ]\n"
     ]
    }
   ],
   "source": [
    "from sklearn.preprocessing import StandardScaler\n",
    "sc = StandardScaler().fit(X_train)  #Compute the statistics to be used for later scaling.\n",
    "print(sc.mean_)  #mean\n",
    "print(sc.scale_) #standard deviation"
   ]
  },
  {
   "cell_type": "code",
   "execution_count": 65,
   "metadata": {},
   "outputs": [
    {
     "data": {
      "text/plain": [
       "array([[-0.01139515,  0.5615887 ],\n",
       "       [ 0.90021711,  0.69877068],\n",
       "       [-0.46720129, -1.08459498],\n",
       "       [ 0.14054022,  0.76736166],\n",
       "       [ 1.35602324,  0.90454364]])"
      ]
     },
     "execution_count": 65,
     "metadata": {},
     "output_type": "execute_result"
    }
   ],
   "source": [
    "#transform: (x-u)/std.\n",
    "X_train_std = sc.transform(X_train)\n",
    "X_train_std[:5]"
   ]
  },
  {
   "cell_type": "markdown",
   "metadata": {},
   "source": [
    "The scaler instance can then be used on new data to transform it the same way it did on the training set:"
   ]
  },
  {
   "cell_type": "code",
   "execution_count": 66,
   "metadata": {},
   "outputs": [
    {
     "name": "stdout",
     "output_type": "stream",
     "text": [
      "[[ 0.59634636  0.83595265]\n",
      " [-0.77107204 -0.94741301]\n",
      " [ 0.2924756   0.83595265]\n",
      " [-0.92300742 -1.08459498]\n",
      " [-0.01139515 -1.08459498]\n",
      " [-0.61913666  0.01286081]\n",
      " [-0.92300742 -1.01600399]\n",
      " [-0.77107204 -1.15318597]\n",
      " [-0.77107204 -0.94741301]\n",
      " [-0.01139515  0.49299772]]\n"
     ]
    }
   ],
   "source": [
    "X_test_std = sc.transform(X_test)\n",
    "print(X_test_std[:10])"
   ]
  },
  {
   "cell_type": "markdown",
   "metadata": {},
   "source": [
    "you can also use fit_transform method (i.e., fit and then transform)    "
   ]
  },
  {
   "cell_type": "code",
   "execution_count": 67,
   "metadata": {},
   "outputs": [
    {
     "name": "stdout",
     "output_type": "stream",
     "text": [
      "[[ 1.08883746  1.43453915]\n",
      " [-0.61542987 -0.61480249]\n",
      " [ 0.71011139  1.43453915]\n",
      " [-0.8047929  -0.77244416]\n",
      " [ 0.33138531 -0.77244416]\n",
      " [-0.42606683  0.48868916]\n",
      " [-0.8047929  -0.69362333]\n",
      " [-0.61542987 -0.85126499]\n",
      " [-0.61542987 -0.61480249]\n",
      " [ 0.33138531  1.04043499]]\n"
     ]
    }
   ],
   "source": [
    "X_train_std = sc.fit_transform(X_train)  \n",
    "X_test_std = sc.fit_transform(X_test)\n",
    "print(X_test_std[:10])\n"
   ]
  },
  {
   "cell_type": "code",
   "execution_count": 68,
   "metadata": {},
   "outputs": [
    {
     "name": "stdout",
     "output_type": "stream",
     "text": [
      "mean of X_train_std: -0.0\n",
      "std of X_train_std: 1.0\n"
     ]
    }
   ],
   "source": [
    "print('mean of X_train_std:',np.round(X_train_std.mean(),4))\n",
    "print('std of X_train_std:',X_train_std.std())"
   ]
  },
  {
   "cell_type": "markdown",
   "metadata": {},
   "source": [
    "## Min-Max Normaliaztion\n",
    "    Transforms features by scaling each feature to a given range.\n",
    "    The transformation is given by:\n",
    "\n",
    "    X' = X - X.min(axis=0) / ((X.max(axis=0) - X.min(axis=0))\n",
    "    X -> N 維資料\n",
    "    \n"
   ]
  },
  {
   "cell_type": "code",
   "execution_count": 85,
   "metadata": {},
   "outputs": [
    {
     "name": "stdout",
     "output_type": "stream",
     "text": [
      "49.82437454386188\n",
      "29.81995181319059\n",
      "[61.04877316 40.42392316 50.69338872 51.46174328 65.07716219 51.95904249\n",
      " 50.975455   52.37043454 47.21989602 41.50964927 43.78341296 45.83396221\n",
      " 50.71358205 55.86318064 46.20301369 51.87008201 46.90024136 43.53223779\n",
      " 50.77030933 55.61607645 48.81474408 48.89307712 59.38408378 41.45227552\n",
      " 58.24756518 42.0254181  55.53282362 61.36069889 49.30306912 43.25182538\n",
      " 60.26863421 48.11263198 42.53470557 46.58600024 41.86061611 54.73501378\n",
      " 44.76276126 66.98982724 51.9499795  57.17541011 52.79376474 50.33269793\n",
      " 51.99794308 44.04489116 49.81179666 53.39994735 47.46407615 51.16490365\n",
      " 56.12993048 42.50996483 39.99829455 54.96594233 39.71614983 46.48209725\n",
      " 40.89696122 48.28779138 42.77945965 45.72038151 51.89889205 48.29935098\n",
      " 52.94332401 46.28982488 42.34933881 44.82447239 58.68126134 41.23113775\n",
      " 49.8596833  55.05166581 49.72526298 40.15528119 55.85698472 46.86403527\n",
      " 50.84326001 49.05421712 57.4238725  53.09086567 47.48729081 44.58516611\n",
      " 50.56535037 55.459199   49.6750434  45.84669286 53.87441414 59.9745849\n",
      " 37.87180705 51.91165508 45.7633402  48.88225559 49.63672601 45.75152051\n",
      " 52.5470316  58.32158925 53.30717386 42.05345492 51.70338607 56.91673466\n",
      " 52.88777158 37.01546584 63.76436662 46.62898229]\n"
     ]
    },
    {
     "data": {
      "image/png": "[encoded data removed]",
      "text/plain": [
       "<Figure size 432x288 with 1 Axes>"
      ]
     },
     "metadata": {
      "needs_background": "light"
     },
     "output_type": "display_data"
    }
   ],
   "source": [
    "x1 = np.random.normal(50, 6, 100)  # np.random.normal(mu,sigma,size))\n",
    "y1 = np.random.normal(5, 0.5, 100)\n",
    "\n",
    "x2 = np.random.normal(30,6,100)\n",
    "y2 = np.random.normal(4,0.5,100)\n",
    "plt.scatter(x1,y1,c='b',marker='s',s=20,alpha=0.8)\n",
    "plt.scatter(x2,y2,c='r', marker='^', s=20, alpha=0.8)\n",
    "\n",
    "print(np.sum(x1)/len(x1))\n",
    "print(np.sum(x2)/len(x2))\n",
    "\n",
    "print(x1)"
   ]
  },
  {
   "cell_type": "code",
   "execution_count": 90,
   "metadata": {},
   "outputs": [
    {
     "name": "stdout",
     "output_type": "stream",
     "text": [
      "[61.04877316 40.42392316 50.69338872 51.46174328 65.07716219 51.95904249\n",
      " 50.975455   52.37043454 47.21989602 41.50964927 43.78341296 45.83396221\n",
      " 50.71358205 55.86318064 46.20301369 51.87008201 46.90024136 43.53223779\n",
      " 50.77030933 55.61607645 48.81474408 48.89307712 59.38408378 41.45227552\n",
      " 58.24756518 42.0254181  55.53282362 61.36069889 49.30306912 43.25182538\n",
      " 60.26863421 48.11263198 42.53470557 46.58600024 41.86061611 54.73501378\n",
      " 44.76276126 66.98982724 51.9499795  57.17541011 52.79376474 50.33269793\n",
      " 51.99794308 44.04489116 49.81179666 53.39994735 47.46407615 51.16490365\n",
      " 56.12993048 42.50996483 39.99829455 54.96594233 39.71614983 46.48209725\n",
      " 40.89696122 48.28779138 42.77945965 45.72038151 51.89889205 48.29935098\n",
      " 52.94332401 46.28982488 42.34933881 44.82447239 58.68126134 41.23113775\n",
      " 49.8596833  55.05166581 49.72526298 40.15528119 55.85698472 46.86403527\n",
      " 50.84326001 49.05421712 57.4238725  53.09086567 47.48729081 44.58516611\n",
      " 50.56535037 55.459199   49.6750434  45.84669286 53.87441414 59.9745849\n",
      " 37.87180705 51.91165508 45.7633402  48.88225559 49.63672601 45.75152051\n",
      " 52.5470316  58.32158925 53.30717386 42.05345492 51.70338607 56.91673466\n",
      " 52.88777158 37.01546584 63.76436662 46.62898229 27.80980413 39.47368457\n",
      " 29.14519265 26.6015379  26.18118517 34.3652724  21.8189048  26.73192275\n",
      " 24.75143674 33.15401685 25.41297201 30.73951152 24.77517182 34.67606169\n",
      " 32.38869324 24.08308477 39.58174618 34.86440281 34.72769238 27.52837837\n",
      " 34.39096845 24.9713798  30.9700637  29.22801485 32.25944797 31.9105769\n",
      " 34.088956   28.21064566 30.9186238  38.54525555 24.98758165 25.39134823\n",
      " 21.72528283 33.04851165 28.80580741 31.72995173 23.24444312 28.65137905\n",
      " 34.60704915 39.48789449 26.45174738 40.47558686 31.66159381 21.8035959\n",
      " 23.86401431 35.035691   26.99875292 35.29635289 18.66386517 17.16069255\n",
      " 33.01077891 25.41351574 30.89977519 21.41129081 32.39989625 26.07187536\n",
      " 25.51780904 23.47409987 32.14145741 23.99769122 31.72717874 31.22119359\n",
      " 27.17698758 36.65808221 25.04994143 38.32953767 32.63034995 41.12409397\n",
      " 27.33927912 25.04988619 32.70601585 31.74971685 32.2837623  34.3621925\n",
      " 26.9346973  33.06676586 35.95082848 25.42611717 31.67158894 30.58197229\n",
      " 24.34446593 31.44697087 27.88758898 27.17609452 32.66976815 22.85445288\n",
      " 23.32772483 31.87193612 37.07118385 41.55828352 28.26013393 35.86343321\n",
      " 28.12851671 34.35335013 32.85714006 31.62139793 27.26567366 28.07444405\n",
      " 30.43070847 16.15778821]\n"
     ]
    }
   ],
   "source": [
    "x_val = np.concatenate((x1,x2))\n",
    "y_val = np.concatenate((y1,y2))\n",
    "\n",
    "x_val.shape\n",
    "print(x_val)"
   ]
  },
  {
   "cell_type": "code",
   "execution_count": 87,
   "metadata": {},
   "outputs": [],
   "source": [
    "def minmax_norm(X):\n",
    "    return (X - X.min(axis=0)) / ((X.max(axis=0) - X.min(axis=0)))"
   ]
  },
  {
   "cell_type": "code",
   "execution_count": 88,
   "metadata": {},
   "outputs": [
    {
     "data": {
      "text/plain": [
       "array([0.83659798, 0.        , 0.41655644, 0.44772292, 1.        ,\n",
       "       0.46789468, 0.42799779, 0.48458182, 0.27566247, 0.0440399 ])"
      ]
     },
     "execution_count": 88,
     "metadata": {},
     "output_type": "execute_result"
    }
   ],
   "source": [
    "minmax_norm(x_val[:10])"
   ]
  },
  {
   "cell_type": "code",
   "execution_count": 91,
   "metadata": {
    "scrolled": false
   },
   "outputs": [
    {
     "name": "stdout",
     "output_type": "stream",
     "text": [
      "(200,)\n",
      "[66.98982724]\n",
      "[16.15778821]\n",
      "[[0.88312383]\n",
      " [0.47737874]\n",
      " [0.67940616]\n",
      " [0.69452172]\n",
      " [0.96237284]\n",
      " [0.7043049 ]\n",
      " [0.68495515]\n",
      " [0.71239807]\n",
      " [0.61107342]\n",
      " [0.49873783]]\n"
     ]
    }
   ],
   "source": [
    "from sklearn.preprocessing import MinMaxScaler\n",
    "print(x_val.shape)\n",
    "x_val=x_val.reshape(-1, 1) # 1D->2D\n",
    "scaler = MinMaxScaler().fit(x_val)  # default range 0~1\n",
    "print(scaler.data_max_)\n",
    "print(scaler.data_min_)\n",
    "print(scaler.transform(x_val)[:10])"
   ]
  },
  {
   "cell_type": "code",
   "execution_count": 39,
   "metadata": {},
   "outputs": [],
   "source": []
  }
 ],
 "metadata": {
  "kernelspec": {
   "display_name": "Python 3",
   "language": "python",
   "name": "python3"
  },
  "language_info": {
   "codemirror_mode": {
    "name": "ipython",
    "version": 3
   },
   "file_extension": ".py",
   "mimetype": "text/x-python",
   "name": "python",
   "nbconvert_exporter": "python",
   "pygments_lexer": "ipython3",
   "version": "3.8.5"
  }
 },
 "nbformat": 4,
 "nbformat_minor": 2
}
